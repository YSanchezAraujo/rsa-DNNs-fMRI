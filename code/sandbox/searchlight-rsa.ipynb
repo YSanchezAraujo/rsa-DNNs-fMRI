{
 "cells": [
  {
   "cell_type": "code",
   "execution_count": 1,
   "metadata": {},
   "outputs": [],
   "source": [
    "import torch\n",
    "import matplotlib.pyplot as plt\n",
    "import nibabel as nib\n",
    "import numpy as np\n",
    "import os \n",
    "import time\n",
    "from nilearn import plotting\n",
    "from brainiak.searchlight.searchlight import Searchlight\n",
    "from brainiak.fcma.preprocessing import prepare_searchlight_mvpa_data\n",
    "from brainiak import io\n",
    "from pathlib import Path\n",
    "from shutil import copyfile\n",
    "from scipy.stats import pearsonr\n",
    "%matplotlib inline"
   ]
  },
  {
   "cell_type": "markdown",
   "metadata": {},
   "source": [
    "### get paths to fmri data, must be 4-d"
   ]
  },
  {
   "cell_type": "code",
   "execution_count": 2,
   "metadata": {},
   "outputs": [
    {
     "data": {
      "text/plain": [
       "['/media/yoel/second_ssd/neu502b/movie_nii/sherlock_movie_s1.nii',\n",
       " '/media/yoel/second_ssd/neu502b/movie_nii/sherlock_movie_s10.nii',\n",
       " '/media/yoel/second_ssd/neu502b/movie_nii/sherlock_movie_s11.nii',\n",
       " '/media/yoel/second_ssd/neu502b/movie_nii/sherlock_movie_s12.nii',\n",
       " '/media/yoel/second_ssd/neu502b/movie_nii/sherlock_movie_s13.nii',\n",
       " '/media/yoel/second_ssd/neu502b/movie_nii/sherlock_movie_s14.nii',\n",
       " '/media/yoel/second_ssd/neu502b/movie_nii/sherlock_movie_s15.nii',\n",
       " '/media/yoel/second_ssd/neu502b/movie_nii/sherlock_movie_s16.nii',\n",
       " '/media/yoel/second_ssd/neu502b/movie_nii/sherlock_movie_s17.nii',\n",
       " '/media/yoel/second_ssd/neu502b/movie_nii/sherlock_movie_s2.nii',\n",
       " '/media/yoel/second_ssd/neu502b/movie_nii/sherlock_movie_s3.nii',\n",
       " '/media/yoel/second_ssd/neu502b/movie_nii/sherlock_movie_s4.nii',\n",
       " '/media/yoel/second_ssd/neu502b/movie_nii/sherlock_movie_s5.nii',\n",
       " '/media/yoel/second_ssd/neu502b/movie_nii/sherlock_movie_s6.nii',\n",
       " '/media/yoel/second_ssd/neu502b/movie_nii/sherlock_movie_s7.nii',\n",
       " '/media/yoel/second_ssd/neu502b/movie_nii/sherlock_movie_s8.nii',\n",
       " '/media/yoel/second_ssd/neu502b/movie_nii/sherlock_movie_s9.nii']"
      ]
     },
     "execution_count": 2,
     "metadata": {},
     "output_type": "execute_result"
    }
   ],
   "source": [
    "DATA_DIR = \"/media/yoel/second_ssd/neu502b/movie_nii\"\n",
    "FILES = [os.path.join(DATA_DIR, x) for x in os.listdir(DATA_DIR) if x.endswith(\".nii\")]\n",
    "FILES"
   ]
  },
  {
   "cell_type": "markdown",
   "metadata": {},
   "source": [
    "### get paths to the mask"
   ]
  },
  {
   "cell_type": "code",
   "execution_count": 3,
   "metadata": {},
   "outputs": [],
   "source": [
    "MASK_PATH = \"/media/yoel/second_ssd/neu502b/reqs/3mm_mask.nii.gz\""
   ]
  },
  {
   "cell_type": "markdown",
   "metadata": {},
   "source": [
    "### load in data"
   ]
  },
  {
   "cell_type": "code",
   "execution_count": 4,
   "metadata": {},
   "outputs": [],
   "source": [
    "mask_obj = nib.load(MASK_PATH)\n",
    "bold_obj = nib.load(FILES[0])"
   ]
  },
  {
   "cell_type": "markdown",
   "metadata": {},
   "source": [
    "### define other variables for the searchlight as shown in the brainiak tutorial"
   ]
  },
  {
   "cell_type": "code",
   "execution_count": 5,
   "metadata": {},
   "outputs": [
    {
     "name": "stdout",
     "output_type": "stream",
     "text": [
      "[[1.         0.9715755  0.96752642 ... 0.15801158 0.14926232 0.15346959]\n",
      " [0.9715755  1.         0.97972615 ... 0.15466913 0.14005584 0.14180969]\n",
      " [0.96752642 0.97972615 1.         ... 0.17252008 0.15755962 0.15507047]\n",
      " ...\n",
      " [0.15801158 0.15466913 0.17252008 ... 1.         0.83300622 0.36757448]\n",
      " [0.14926232 0.14005584 0.15755962 ... 0.83300622 1.         0.39343924]\n",
      " [0.15346959 0.14180969 0.15507047 ... 0.36757448 0.39343924 1.        ]]\n",
      "/media/yoel/second_ssd/neu502b/results/nncormats/p2relu9cormat.npy\n"
     ]
    }
   ],
   "source": [
    "sl_rad = 1 # searchlight radius\n",
    "max_blk_edge = 3 # not sure \n",
    "pool_size = 1 # not sure\n",
    "mask = np.array(mask_obj.dataobj).astype(bool)\n",
    "data = np.array(bold_obj.dataobj)\n",
    "\n",
    "# truncate the data to part2\n",
    "data = data[:, :, :, 946:]\n",
    "\n",
    "# get activations correlation matrix\n",
    "NNCOR_DIR = \"/media/yoel/second_ssd/neu502b/results/nncormats\"\n",
    "NNCOR_FILES = [os.path.join(NNCOR_DIR, x) for x in os.listdir(NNCOR_DIR) if x.endswith(\".npy\")]\n",
    "bcvar = np.load(NNCOR_FILES[-1])\n",
    "print(bcvar)\n",
    "print(NNCOR_FILES[-1])\n",
    "\n",
    "# Create the searchlight object\n",
    "sl = Searchlight(sl_rad=sl_rad, max_blk_edge=max_blk_edge)"
   ]
  },
  {
   "cell_type": "code",
   "execution_count": 6,
   "metadata": {},
   "outputs": [],
   "source": [
    "sl.distribute([data], mask)\n",
    "sl.broadcast(bcvar)"
   ]
  },
  {
   "cell_type": "code",
   "execution_count": 7,
   "metadata": {},
   "outputs": [],
   "source": [
    "def rsa(data, mask, sl_rad, bcvar): \n",
    "    if np.sum(mask) < 2:\n",
    "        return 0.0\n",
    "    data4D = data[0]\n",
    "    bolddata_sl = data4D[mask, :].T  \n",
    "    human = np.corrcoef(bolddata_sl)\n",
    "    alexnet = bcvar\n",
    "    hvec = human[np.triu(np.ones(human.shape), k=10).astype(bool)]\n",
    "    avec = alexnet[np.triu(np.ones(alexnet.shape), k=10).astype(bool)]\n",
    "    nnans = np.isnan(hvec).sum()\n",
    "    if nnans:\n",
    "        print(nnans)\n",
    "    return pearsonr(hvec, avec)[0]"
   ]
  },
  {
   "cell_type": "code",
   "execution_count": 8,
   "metadata": {},
   "outputs": [
    {
     "name": "stdout",
     "output_type": "stream",
     "text": [
      "Begin Searchlight\n",
      "\n"
     ]
    },
    {
     "name": "stderr",
     "output_type": "stream",
     "text": [
      "/media/yoel/second_ssd/torch/lib/python3.7/site-packages/numpy/lib/function_base.py:2534: RuntimeWarning: invalid value encountered in true_divide\n",
      "  c /= stddev[:, None]\n"
     ]
    },
    {
     "name": "stdout",
     "output_type": "stream",
     "text": [
      "520710\n"
     ]
    },
    {
     "ename": "ValueError",
     "evalue": "array must not contain infs or NaNs",
     "output_type": "error",
     "traceback": [
      "\u001b[0;31m---------------------------------------------------------------------------\u001b[0m",
      "\u001b[0;31mValueError\u001b[0m                                Traceback (most recent call last)",
      "\u001b[0;32m<ipython-input-8-5babd7041e81>\u001b[0m in \u001b[0;36m<module>\u001b[0;34m\u001b[0m\n\u001b[1;32m      1\u001b[0m \u001b[0mprint\u001b[0m\u001b[0;34m(\u001b[0m\u001b[0;34m\"Begin Searchlight\\n\"\u001b[0m\u001b[0;34m)\u001b[0m\u001b[0;34m\u001b[0m\u001b[0m\n\u001b[0;32m----> 2\u001b[0;31m \u001b[0msl_result\u001b[0m \u001b[0;34m=\u001b[0m \u001b[0msl\u001b[0m\u001b[0;34m.\u001b[0m\u001b[0mrun_searchlight\u001b[0m\u001b[0;34m(\u001b[0m\u001b[0mrsa\u001b[0m\u001b[0;34m,\u001b[0m \u001b[0mpool_size\u001b[0m\u001b[0;34m=\u001b[0m\u001b[0mpool_size\u001b[0m\u001b[0;34m)\u001b[0m\u001b[0;34m\u001b[0m\u001b[0m\n\u001b[0m",
      "\u001b[0;32m/media/yoel/second_ssd/torch/lib/python3.7/site-packages/brainiak/searchlight/searchlight.py\u001b[0m in \u001b[0;36mrun_searchlight\u001b[0;34m(self, voxel_fn, pool_size)\u001b[0m\n\u001b[1;32m    519\u001b[0m         block_fn_result = self.run_block_function(_singlenode_searchlight,\n\u001b[1;32m    520\u001b[0m                                                   \u001b[0mextra_block_fn_params\u001b[0m\u001b[0;34m,\u001b[0m\u001b[0;34m\u001b[0m\u001b[0m\n\u001b[0;32m--> 521\u001b[0;31m                                                   pool_size)\n\u001b[0m\u001b[1;32m    522\u001b[0m         \u001b[0;32mreturn\u001b[0m \u001b[0mblock_fn_result\u001b[0m\u001b[0;34m\u001b[0m\u001b[0m\n\u001b[1;32m    523\u001b[0m \u001b[0;34m\u001b[0m\u001b[0m\n",
      "\u001b[0;32m/media/yoel/second_ssd/torch/lib/python3.7/site-packages/brainiak/searchlight/searchlight.py\u001b[0m in \u001b[0;36mrun_block_function\u001b[0;34m(self, block_fn, extra_block_fn_params, pool_size)\u001b[0m\n\u001b[1;32m    455\u001b[0m                             \u001b[0mself\u001b[0m\u001b[0;34m.\u001b[0m\u001b[0msl_rad\u001b[0m\u001b[0;34m,\u001b[0m\u001b[0;34m\u001b[0m\u001b[0m\n\u001b[1;32m    456\u001b[0m                             \u001b[0mself\u001b[0m\u001b[0;34m.\u001b[0m\u001b[0mbcast_var\u001b[0m\u001b[0;34m,\u001b[0m\u001b[0;34m\u001b[0m\u001b[0m\n\u001b[0;32m--> 457\u001b[0;31m                             extra_block_fn_params)\n\u001b[0m\u001b[1;32m    458\u001b[0m                 \u001b[0mresults\u001b[0m\u001b[0;34m.\u001b[0m\u001b[0mappend\u001b[0m\u001b[0;34m(\u001b[0m\u001b[0;34m(\u001b[0m\u001b[0mblock\u001b[0m\u001b[0;34m[\u001b[0m\u001b[0;36m0\u001b[0m\u001b[0;34m]\u001b[0m\u001b[0;34m,\u001b[0m \u001b[0mresult\u001b[0m\u001b[0;34m)\u001b[0m\u001b[0;34m)\u001b[0m\u001b[0;34m\u001b[0m\u001b[0m\n\u001b[1;32m    459\u001b[0m             \u001b[0mlocal_outputs\u001b[0m \u001b[0;34m=\u001b[0m \u001b[0;34m[\u001b[0m\u001b[0;34m(\u001b[0m\u001b[0mresult\u001b[0m\u001b[0;34m[\u001b[0m\u001b[0;36m0\u001b[0m\u001b[0;34m]\u001b[0m\u001b[0;34m,\u001b[0m \u001b[0mresult\u001b[0m\u001b[0;34m[\u001b[0m\u001b[0;36m1\u001b[0m\u001b[0;34m]\u001b[0m\u001b[0;34m)\u001b[0m \u001b[0;32mfor\u001b[0m \u001b[0mresult\u001b[0m \u001b[0;32min\u001b[0m \u001b[0mresults\u001b[0m\u001b[0;34m]\u001b[0m\u001b[0;34m\u001b[0m\u001b[0m\n",
      "\u001b[0;32m/media/yoel/second_ssd/torch/lib/python3.7/site-packages/brainiak/searchlight/searchlight.py\u001b[0m in \u001b[0;36m_singlenode_searchlight\u001b[0;34m(l, msk, mysl_rad, bcast_var, extra_params)\u001b[0m\n\u001b[1;32m    558\u001b[0m                             \u001b[0mmsk\u001b[0m\u001b[0;34m[\u001b[0m\u001b[0msearchlight_slice\u001b[0m\u001b[0;34m]\u001b[0m \u001b[0;34m*\u001b[0m \u001b[0mshape_mask\u001b[0m\u001b[0;34m,\u001b[0m\u001b[0;34m\u001b[0m\u001b[0m\n\u001b[1;32m    559\u001b[0m                             \u001b[0mmysl_rad\u001b[0m\u001b[0;34m,\u001b[0m\u001b[0;34m\u001b[0m\u001b[0m\n\u001b[0;32m--> 560\u001b[0;31m                             bcast_var)\n\u001b[0m\u001b[1;32m    561\u001b[0m     \u001b[0;32mreturn\u001b[0m \u001b[0moutmat\u001b[0m\u001b[0;34m\u001b[0m\u001b[0m\n",
      "\u001b[0;32m<ipython-input-7-b8c5da905917>\u001b[0m in \u001b[0;36mrsa\u001b[0;34m(data, mask, sl_rad, bcvar)\u001b[0m\n\u001b[1;32m     11\u001b[0m     \u001b[0;32mif\u001b[0m \u001b[0mnnans\u001b[0m\u001b[0;34m:\u001b[0m\u001b[0;34m\u001b[0m\u001b[0m\n\u001b[1;32m     12\u001b[0m         \u001b[0mprint\u001b[0m\u001b[0;34m(\u001b[0m\u001b[0mnnans\u001b[0m\u001b[0;34m)\u001b[0m\u001b[0;34m\u001b[0m\u001b[0m\n\u001b[0;32m---> 13\u001b[0;31m     \u001b[0;32mreturn\u001b[0m \u001b[0mpearsonr\u001b[0m\u001b[0;34m(\u001b[0m\u001b[0mhvec\u001b[0m\u001b[0;34m,\u001b[0m \u001b[0mavec\u001b[0m\u001b[0;34m)\u001b[0m\u001b[0;34m[\u001b[0m\u001b[0;36m0\u001b[0m\u001b[0;34m]\u001b[0m\u001b[0;34m\u001b[0m\u001b[0m\n\u001b[0m",
      "\u001b[0;32m/media/yoel/second_ssd/torch/lib/python3.7/site-packages/scipy/stats/stats.py\u001b[0m in \u001b[0;36mpearsonr\u001b[0;34m(x, y)\u001b[0m\n\u001b[1;32m   3528\u001b[0m     \u001b[0;31m# scipy.linalg.norm(xm) does not overflow if xm is, for example,\u001b[0m\u001b[0;34m\u001b[0m\u001b[0;34m\u001b[0m\u001b[0m\n\u001b[1;32m   3529\u001b[0m     \u001b[0;31m# [-5e210, 5e210, 3e200, -3e200]\u001b[0m\u001b[0;34m\u001b[0m\u001b[0;34m\u001b[0m\u001b[0m\n\u001b[0;32m-> 3530\u001b[0;31m     \u001b[0mnormxm\u001b[0m \u001b[0;34m=\u001b[0m \u001b[0mlinalg\u001b[0m\u001b[0;34m.\u001b[0m\u001b[0mnorm\u001b[0m\u001b[0;34m(\u001b[0m\u001b[0mxm\u001b[0m\u001b[0;34m)\u001b[0m\u001b[0;34m\u001b[0m\u001b[0m\n\u001b[0m\u001b[1;32m   3531\u001b[0m     \u001b[0mnormym\u001b[0m \u001b[0;34m=\u001b[0m \u001b[0mlinalg\u001b[0m\u001b[0;34m.\u001b[0m\u001b[0mnorm\u001b[0m\u001b[0;34m(\u001b[0m\u001b[0mym\u001b[0m\u001b[0;34m)\u001b[0m\u001b[0;34m\u001b[0m\u001b[0m\n\u001b[1;32m   3532\u001b[0m \u001b[0;34m\u001b[0m\u001b[0m\n",
      "\u001b[0;32m/media/yoel/second_ssd/torch/lib/python3.7/site-packages/scipy/linalg/misc.py\u001b[0m in \u001b[0;36mnorm\u001b[0;34m(a, ord, axis, keepdims, check_finite)\u001b[0m\n\u001b[1;32m    140\u001b[0m     \u001b[0;31m# Differs from numpy only in non-finite handling and the use of blas.\u001b[0m\u001b[0;34m\u001b[0m\u001b[0;34m\u001b[0m\u001b[0m\n\u001b[1;32m    141\u001b[0m     \u001b[0;32mif\u001b[0m \u001b[0mcheck_finite\u001b[0m\u001b[0;34m:\u001b[0m\u001b[0;34m\u001b[0m\u001b[0m\n\u001b[0;32m--> 142\u001b[0;31m         \u001b[0ma\u001b[0m \u001b[0;34m=\u001b[0m \u001b[0mnp\u001b[0m\u001b[0;34m.\u001b[0m\u001b[0masarray_chkfinite\u001b[0m\u001b[0;34m(\u001b[0m\u001b[0ma\u001b[0m\u001b[0;34m)\u001b[0m\u001b[0;34m\u001b[0m\u001b[0m\n\u001b[0m\u001b[1;32m    143\u001b[0m     \u001b[0;32melse\u001b[0m\u001b[0;34m:\u001b[0m\u001b[0;34m\u001b[0m\u001b[0m\n\u001b[1;32m    144\u001b[0m         \u001b[0ma\u001b[0m \u001b[0;34m=\u001b[0m \u001b[0mnp\u001b[0m\u001b[0;34m.\u001b[0m\u001b[0masarray\u001b[0m\u001b[0;34m(\u001b[0m\u001b[0ma\u001b[0m\u001b[0;34m)\u001b[0m\u001b[0;34m\u001b[0m\u001b[0m\n",
      "\u001b[0;32m/media/yoel/second_ssd/torch/lib/python3.7/site-packages/numpy/lib/function_base.py\u001b[0m in \u001b[0;36masarray_chkfinite\u001b[0;34m(a, dtype, order)\u001b[0m\n\u001b[1;32m    497\u001b[0m     \u001b[0;32mif\u001b[0m \u001b[0ma\u001b[0m\u001b[0;34m.\u001b[0m\u001b[0mdtype\u001b[0m\u001b[0;34m.\u001b[0m\u001b[0mchar\u001b[0m \u001b[0;32min\u001b[0m \u001b[0mtypecodes\u001b[0m\u001b[0;34m[\u001b[0m\u001b[0;34m'AllFloat'\u001b[0m\u001b[0;34m]\u001b[0m \u001b[0;32mand\u001b[0m \u001b[0;32mnot\u001b[0m \u001b[0mnp\u001b[0m\u001b[0;34m.\u001b[0m\u001b[0misfinite\u001b[0m\u001b[0;34m(\u001b[0m\u001b[0ma\u001b[0m\u001b[0;34m)\u001b[0m\u001b[0;34m.\u001b[0m\u001b[0mall\u001b[0m\u001b[0;34m(\u001b[0m\u001b[0;34m)\u001b[0m\u001b[0;34m:\u001b[0m\u001b[0;34m\u001b[0m\u001b[0m\n\u001b[1;32m    498\u001b[0m         raise ValueError(\n\u001b[0;32m--> 499\u001b[0;31m             \"array must not contain infs or NaNs\")\n\u001b[0m\u001b[1;32m    500\u001b[0m     \u001b[0;32mreturn\u001b[0m \u001b[0ma\u001b[0m\u001b[0;34m\u001b[0m\u001b[0m\n\u001b[1;32m    501\u001b[0m \u001b[0;34m\u001b[0m\u001b[0m\n",
      "\u001b[0;31mValueError\u001b[0m: array must not contain infs or NaNs"
     ]
    }
   ],
   "source": [
    "print(\"Begin Searchlight\\n\")\n",
    "sl_result = sl.run_searchlight(rsa, pool_size=pool_size)"
   ]
  },
  {
   "cell_type": "code",
   "execution_count": null,
   "metadata": {},
   "outputs": [],
   "source": []
  }
 ],
 "metadata": {
  "kernelspec": {
   "display_name": "Python 3",
   "language": "python",
   "name": "python3"
  },
  "language_info": {
   "codemirror_mode": {
    "name": "ipython",
    "version": 3
   },
   "file_extension": ".py",
   "mimetype": "text/x-python",
   "name": "python",
   "nbconvert_exporter": "python",
   "pygments_lexer": "ipython3",
   "version": "3.7.0"
  }
 },
 "nbformat": 4,
 "nbformat_minor": 4
}
