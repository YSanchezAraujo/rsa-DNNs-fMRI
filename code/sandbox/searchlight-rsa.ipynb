{
 "cells": [
  {
   "cell_type": "code",
   "execution_count": 1,
   "metadata": {},
   "outputs": [],
   "source": [
    "import matplotlib.pyplot as plt\n",
    "import nibabel as nib\n",
    "import numpy as np\n",
    "import os \n",
    "from nilearn import plotting\n",
    "from brainiak.searchlight.searchlight import Searchlight\n",
    "from scipy.stats import pearsonr\n",
    "import numpy.ma as ma\n",
    "%matplotlib inline"
   ]
  },
  {
   "cell_type": "markdown",
   "metadata": {},
   "source": [
    "### get paths to fmri data, must be 4-d"
   ]
  },
  {
   "cell_type": "code",
   "execution_count": 2,
   "metadata": {},
   "outputs": [
    {
     "data": {
      "text/plain": [
       "['/media/yoel/second_ssd/neu502b/movie_nii/sherlock_movie_s1.nii',\n",
       " '/media/yoel/second_ssd/neu502b/movie_nii/sherlock_movie_s10.nii',\n",
       " '/media/yoel/second_ssd/neu502b/movie_nii/sherlock_movie_s11.nii',\n",
       " '/media/yoel/second_ssd/neu502b/movie_nii/sherlock_movie_s12.nii',\n",
       " '/media/yoel/second_ssd/neu502b/movie_nii/sherlock_movie_s13.nii',\n",
       " '/media/yoel/second_ssd/neu502b/movie_nii/sherlock_movie_s14.nii',\n",
       " '/media/yoel/second_ssd/neu502b/movie_nii/sherlock_movie_s15.nii',\n",
       " '/media/yoel/second_ssd/neu502b/movie_nii/sherlock_movie_s16.nii',\n",
       " '/media/yoel/second_ssd/neu502b/movie_nii/sherlock_movie_s17.nii',\n",
       " '/media/yoel/second_ssd/neu502b/movie_nii/sherlock_movie_s2.nii',\n",
       " '/media/yoel/second_ssd/neu502b/movie_nii/sherlock_movie_s3.nii',\n",
       " '/media/yoel/second_ssd/neu502b/movie_nii/sherlock_movie_s4.nii',\n",
       " '/media/yoel/second_ssd/neu502b/movie_nii/sherlock_movie_s5.nii',\n",
       " '/media/yoel/second_ssd/neu502b/movie_nii/sherlock_movie_s6.nii',\n",
       " '/media/yoel/second_ssd/neu502b/movie_nii/sherlock_movie_s7.nii',\n",
       " '/media/yoel/second_ssd/neu502b/movie_nii/sherlock_movie_s8.nii',\n",
       " '/media/yoel/second_ssd/neu502b/movie_nii/sherlock_movie_s9.nii']"
      ]
     },
     "execution_count": 2,
     "metadata": {},
     "output_type": "execute_result"
    }
   ],
   "source": [
    "DATA_DIR = \"/media/yoel/second_ssd/neu502b/movie_nii\"\n",
    "FILES = [os.path.join(DATA_DIR, x) for x in os.listdir(DATA_DIR) if x.endswith(\".nii\")]\n",
    "FILES"
   ]
  },
  {
   "cell_type": "markdown",
   "metadata": {},
   "source": [
    "### get paths to the mask"
   ]
  },
  {
   "cell_type": "code",
   "execution_count": 3,
   "metadata": {},
   "outputs": [],
   "source": [
    "MASK_PATH = \"/media/yoel/second_ssd/neu502b/reqs/3mm_mask.nii.gz\""
   ]
  },
  {
   "cell_type": "markdown",
   "metadata": {},
   "source": [
    "### load in data"
   ]
  },
  {
   "cell_type": "code",
   "execution_count": 4,
   "metadata": {},
   "outputs": [],
   "source": [
    "mask_obj = nib.load(MASK_PATH)\n",
    "bold_obj = nib.load(FILES[0])"
   ]
  },
  {
   "cell_type": "markdown",
   "metadata": {},
   "source": [
    "### define other variables for the searchlight as shown in the brainiak tutorial"
   ]
  },
  {
   "cell_type": "code",
   "execution_count": 5,
   "metadata": {},
   "outputs": [],
   "source": [
    "sl_rad = 3 # searchlight radius\n",
    "max_blk_edge = 6 # not sure \n",
    "pool_size = 1 # not sure\n",
    "dmask = np.array(mask_obj.dataobj).astype(int)\n",
    "hdata = np.array(bold_obj.dataobj)\n",
    "\n",
    "# get activations correlation matrix\n",
    "NNCOR_DIR = \"/media/yoel/second_ssd/neu502b/results/nncormats\"\n",
    "NNCOR_FILES = [os.path.join(NNCOR_DIR, x) for x in os.listdir(NNCOR_DIR) if x.endswith(\".npy\")]\n",
    "bcvar = np.load(NNCOR_FILES[-1])"
   ]
  },
  {
   "cell_type": "code",
   "execution_count": 6,
   "metadata": {},
   "outputs": [],
   "source": [
    "# truncate the data to part2\n",
    "data = hdata[:, :, :, 946:]\n",
    "mask = dmask"
   ]
  },
  {
   "cell_type": "code",
   "execution_count": 7,
   "metadata": {},
   "outputs": [],
   "source": [
    "# Create the searchlight object\n",
    "sl = Searchlight(sl_rad=sl_rad, max_blk_edge=max_blk_edge)"
   ]
  },
  {
   "cell_type": "code",
   "execution_count": 8,
   "metadata": {},
   "outputs": [],
   "source": [
    "sl.distribute([data], mask)\n",
    "sl.broadcast(bcvar)"
   ]
  },
  {
   "cell_type": "code",
   "execution_count": 18,
   "metadata": {},
   "outputs": [],
   "source": [
    "def rsa(data, mask, sl_rad, bcvar): \n",
    "    data4D = data[0]\n",
    "    bolddata_sl = data4D[mask.astype(bool), :].T  \n",
    "    #bolddata_sl[bolddata_sl == 0] = np.NaN\n",
    "    human = np.corrcoef(bolddata_sl)\n",
    "    alexnet = bcvar\n",
    "    hvec = human[np.triu(np.ones(human.shape)).astype(bool)]\n",
    "    avec = alexnet[np.triu(np.ones(alexnet.shape)).astype(bool)]\n",
    "    # masking to ignore infs or nans, i.e. non-brain locations\n",
    "    hvec_mask = ma.masked_invalid(hvec).mask\n",
    "    if len(hvec[~hvec_mask]) == 0:\n",
    "        return 0.0\n",
    "    return pearsonr(hvec[~hvec_mask], avec[~hvec_mask])[0]"
   ]
  },
  {
   "cell_type": "code",
   "execution_count": 19,
   "metadata": {},
   "outputs": [
    {
     "name": "stderr",
     "output_type": "stream",
     "text": [
      "/media/yoel/second_ssd/torch/lib/python3.7/site-packages/numpy/lib/function_base.py:2534: RuntimeWarning: invalid value encountered in true_divide\n",
      "  c /= stddev[:, None]\n"
     ]
    }
   ],
   "source": [
    "sl_result = sl.run_searchlight(rsa, pool_size=pool_size)"
   ]
  },
  {
   "cell_type": "code",
   "execution_count": 20,
   "metadata": {},
   "outputs": [],
   "source": [
    "sl_result[sl_result == None] = 0"
   ]
  },
  {
   "cell_type": "code",
   "execution_count": 21,
   "metadata": {},
   "outputs": [],
   "source": [
    "ss=np.array(sl_result, dtype=float)"
   ]
  },
  {
   "cell_type": "code",
   "execution_count": 41,
   "metadata": {},
   "outputs": [
    {
     "data": {
      "text/plain": [
       "<matplotlib.colorbar.Colorbar at 0x7f657a2e9400>"
      ]
     },
     "execution_count": 41,
     "metadata": {},
     "output_type": "execute_result"
    },
    {
     "data": {
      "image/png": "[encoded data removed]",
      "text/plain": [
       "<Figure size 432x288 with 2 Axes>"
      ]
     },
     "metadata": {
      "needs_background": "light"
     },
     "output_type": "display_data"
    }
   ],
   "source": [
    "plt.imshow(ss[:, :, 30])\n",
    "plt.colorbar()"
   ]
  },
  {
   "cell_type": "code",
   "execution_count": 42,
   "metadata": {},
   "outputs": [
    {
     "data": {
      "text/plain": [
       "<matplotlib.colorbar.Colorbar at 0x7f657a214b38>"
      ]
     },
     "execution_count": 42,
     "metadata": {},
     "output_type": "execute_result"
    },
    {
     "data": {
      "image/png": "[encoded data removed]",
      "text/plain": [
       "<Figure size 432x288 with 2 Axes>"
      ]
     },
     "metadata": {
      "needs_background": "light"
     },
     "output_type": "display_data"
    }
   ],
   "source": [
    "plt.imshow(mask[:, :, 30])\n",
    "plt.colorbar()"
   ]
  },
  {
   "cell_type": "code",
   "execution_count": null,
   "metadata": {},
   "outputs": [],
   "source": []
  }
 ],
 "metadata": {
  "kernelspec": {
   "display_name": "Python 3",
   "language": "python",
   "name": "python3"
  },
  "language_info": {
   "codemirror_mode": {
    "name": "ipython",
    "version": 3
   },
   "file_extension": ".py",
   "mimetype": "text/x-python",
   "name": "python",
   "nbconvert_exporter": "python",
   "pygments_lexer": "ipython3",
   "version": "3.7.0"
  }
 },
 "nbformat": 4,
 "nbformat_minor": 4
}
